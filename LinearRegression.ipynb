{
  "nbformat": 4,
  "nbformat_minor": 0,
  "metadata": {
    "colab": {
      "name": "LinearRegression.ipynb",
      "provenance": [],
      "collapsed_sections": []
    },
    "kernelspec": {
      "name": "python3",
      "display_name": "Python 3"
    }
  },
  "cells": [
    {
      "cell_type": "code",
      "metadata": {
        "id": "jpOrAsmdvWs_",
        "outputId": "4cc3cef4-e02f-4e87-8a8f-a462d78707e9",
        "colab": {
          "base_uri": "https://localhost:8080/",
          "height": 265
        }
      },
      "source": [
        "import matplotlib.pyplot as plot\n",
        "\n",
        "# X axis represents driver age and Y axis represents vehicle speed from a sample vehicle data.\n",
        "xAxis = [6, 8, 9, 8, 3, 18, 3, 10, 5, 12, 13, 10, 7]\n",
        "yAxis = [98, 85, 86, 87, 110, 85, 102, 86, 93, 77, 76, 84, 85]\n",
        "\n",
        "plot.scatter(xAxis, yAxis)\n",
        "plot.show()"
      ],
      "execution_count": 3,
      "outputs": [
        {
          "output_type": "display_data",
          "data": {
            "image/png": "[encoded data removed]",
            "text/plain": [
              "<Figure size 432x288 with 1 Axes>"
            ]
          },
          "metadata": {
            "tags": [],
            "needs_background": "light"
          }
        }
      ]
    },
    {
      "cell_type": "code",
      "metadata": {
        "id": "Pg5Uc8BZ-tPq",
        "outputId": "118d223d-5cce-4065-a8d0-c4819a2127aa",
        "colab": {
          "base_uri": "https://localhost:8080/",
          "height": 283
        }
      },
      "source": [
        "import matplotlib.pyplot as plt\n",
        "from scipy import stats\n",
        "\n",
        "xAxis = [6, 8, 9, 8, 3, 18, 3, 10, 5, 12, 13, 10, 7]\n",
        "yAxis = [98, 85, 86, 87, 110, 85, 102, 86, 93, 77, 76, 84, 85]\n",
        "\n",
        "slope, intercept, r , p, std_err = stats.linregress(xAxis, yAxis)\n",
        "\n",
        "def calcFunc(x):\n",
        "  return slope * x + intercept\n",
        "\n",
        "finalmodel = list(map(calcFunc, xAxis))\n",
        "\n",
        "plt.scatter(xAxis, yAxis)\n",
        "plt.plot(xAxis, finalmodel)\n",
        "plt.show()"
      ],
      "execution_count": 4,
      "outputs": [
        {
          "output_type": "execute_result",
          "data": {
            "text/plain": [
              "[<matplotlib.lines.Line2D at 0x7ffb7c9f3c50>]"
            ]
          },
          "metadata": {
            "tags": []
          },
          "execution_count": 4
        },
        {
          "output_type": "display_data",
          "data": {
            "image/png": "[encoded data removed]",
            "text/plain": [
              "<Figure size 432x288 with 1 Axes>"
            ]
          },
          "metadata": {
            "tags": [],
            "needs_background": "light"
          }
        }
      ]
    },
    {
      "cell_type": "code",
      "metadata": {
        "id": "R2949s7LjWHn",
        "outputId": "73976f94-480f-4a7a-99bf-83298dd9921a",
        "colab": {
          "base_uri": "https://localhost:8080/",
          "height": 35
        }
      },
      "source": [
        "# How to find if our data fits in a linear regression?\n",
        "\n",
        "from scipy import stats\n",
        "\n",
        "xAxis = [6, 8, 9, 8, 3, 18, 3, 10, 5, 12, 13, 10, 7]\n",
        "yAxis = [98, 85, 86, 87, 110, 85, 102, 86, 93, 77, 76, 84, 85]\n",
        "\n",
        "slope, intercept, coefficientCorrelation, p, std_err = stats.linregress(xAxis, yAxis)\n",
        "\n",
        "print(coefficientCorrelation)\n",
        "\n",
        "# Analysis: The result of Coefficient Correlation around -0.75 shows that there is a relationship, but not perfect, so it indicates that we could use Linear Regression in future analysis with predictions"
      ],
      "execution_count": 3,
      "outputs": [
        {
          "output_type": "stream",
          "text": [
            "-0.758591524376155\n"
          ],
          "name": "stdout"
        }
      ]
    },
    {
      "cell_type": "code",
      "metadata": {
        "id": "W9fUoFXomRJp",
        "outputId": "65e717fc-7397-47cf-88a4-c45bd21e01cc",
        "colab": {
          "base_uri": "https://localhost:8080/",
          "height": 35
        }
      },
      "source": [
        "# Let's predict future values for analysis?\n",
        "\n",
        "from scipy import stats\n",
        "\n",
        "xAxis = [6, 8, 9, 8, 3, 18, 3, 10, 5, 12, 13, 10, 7]\n",
        "yAxis = [98, 85, 86, 87, 110, 85, 102, 86, 93, 77, 76, 84, 85]\n",
        "\n",
        "slope, intercept, coefficientCorrelation, p, std_err = stats.linregress(xAxis, yAxis)\n",
        "\n",
        "def calcFunc(x):\n",
        "  return slope * x + intercept\n",
        "\n",
        "# Let's try to predict the speed of a 12 years old car\n",
        "\n",
        "carSpeed = calcFunc(9)\n",
        "print(carSpeed)\n",
        "\n",
        "# Analysis: The result of around 88 which we could also see it from the Scatter Plot diagram"
      ],
      "execution_count": 8,
      "outputs": [
        {
          "output_type": "stream",
          "text": [
            "88.09565857247978\n"
          ],
          "name": "stdout"
        }
      ]
    },
    {
      "cell_type": "code",
      "metadata": {
        "id": "L_FFkuUXxArl",
        "outputId": "23aa11db-6f5c-455b-ae34-399c620db787",
        "colab": {
          "base_uri": "https://localhost:8080/",
          "height": 304
        }
      },
      "source": [
        "# We should analyze where linear regression would not be the best fit to predict future results\n",
        "\n",
        "import matplotlib.pyplot as plt\n",
        "from scipy import stats\n",
        "\n",
        "xAxis = [88, 42, 35, 35, 94, 9, 65, 33, 37, 19, 25, 28, 47, 63, 5, 4, 35, 65, 71, 39]\n",
        "yAxis = [22, 47, 4, 36, 68, 96, 54, 73, 59, 11, 27, 35, 91, 34, 39, 21, 57, 3, 48, 16]\n",
        "\n",
        "slope, intercept, coefficientCorrelation, p, std_err = stats.linregress(xAxis, yAxis)\n",
        "\n",
        "def calcFunc(x):\n",
        "  return slope * x + intercept\n",
        "\n",
        "finalModel = list(map(calcFunc, xAxis))\n",
        "\n",
        "plt.scatter(xAxis, yAxis)\n",
        "plt.plot(xAxis, finalModel)\n",
        "plt.show()\n",
        "print (' ')\n",
        "# We should also get a very low r-squared value of coefficientCorrelation\n",
        "print(coefficientCorrelation)\n",
        "\n",
        "# The result of 0.013 indicates a very bad relationship so the dataset is not really suitable for linear regression"
      ],
      "execution_count": 5,
      "outputs": [
        {
          "output_type": "display_data",
          "data": {
            "image/png": "[encoded data removed]",
            "text/plain": [
              "<Figure size 432x288 with 1 Axes>"
            ]
          },
          "metadata": {
            "tags": [],
            "needs_background": "light"
          }
        },
        {
          "output_type": "stream",
          "text": [
            " \n",
            "0.01331814154297491\n"
          ],
          "name": "stdout"
        }
      ]
    },
    {
      "cell_type": "code",
      "metadata": {
        "id": "tRzvLjkBzdrj"
      },
      "source": [
        "#"
      ],
      "execution_count": null,
      "outputs": []
    }
  ]
}